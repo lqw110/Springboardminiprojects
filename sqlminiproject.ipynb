{
 "cells": [
  {
   "cell_type": "code",
   "execution_count": 54,
   "metadata": {},
   "outputs": [
    {
     "name": "stdout",
     "output_type": "stream",
     "text": [
      "2.6.0\n",
      "2. Query all tasks\n",
      "(0, 'Tennis Court 1', 5, 25, 10000, 200)\n",
      "(1, 'Tennis Court 2', 5, 25, 8000, 200)\n",
      "(2, 'Badminton Court', 0, 15.5, 4000, 50)\n",
      "(3, 'Table Tennis', 0, 5, 320, 10)\n",
      "(4, 'Massage Room 1', 9.9, 80, 4000, 3000)\n",
      "(5, 'Massage Room 2', 9.9, 80, 4000, 3000)\n",
      "(6, 'Squash Court', 3.5, 17.5, 5000, 80)\n",
      "(7, 'Snooker Table', 0, 5, 450, 15)\n",
      "(8, 'Pool Table', 0, 5, 400, 15)\n"
     ]
    }
   ],
   "source": [
    "import sqlite3\n",
    "from sqlite3 import Error\n",
    " \n",
    "def create_connection(db_file):\n",
    "    \"\"\" create a database connection to the SQLite database\n",
    "        specified by the db_file\n",
    "    :param db_file: database file\n",
    "    :return: Connection object or None\n",
    "    \"\"\"\n",
    "    conn = None\n",
    "    try:\n",
    "        conn = sqlite3.connect(db_file)\n",
    "        print(sqlite3.version)\n",
    "    except Error as e:\n",
    "        print(e)\n",
    " \n",
    "    return conn\n",
    "\n",
    "query = \"\"\"\n",
    "        SELECT *\n",
    "        FROM FACILITIES\n",
    "        \"\"\" \n",
    "\n",
    "def select_all_tasks(conn,query):\n",
    "    \"\"\"\n",
    "    Query all rows in the tasks table\n",
    "    :param conn: the Connection object\n",
    "    :return:\n",
    "    \"\"\"\n",
    "    cur = conn.cursor()\n",
    "    \n",
    "    \n",
    "    cur.execute(query)\n",
    " \n",
    "    rows = cur.fetchall()\n",
    " \n",
    "    for row in rows:\n",
    "        print(row)\n",
    "\n",
    "database = \"sqlite_db_pythonsqlite.db\"\n",
    "conn = create_connection(database)\n",
    "\n",
    "\n",
    "def main():\n",
    " \n",
    "    # create a database connection\n",
    "    \n",
    "    with conn: \n",
    "        print(\"2. Query all tasks\")\n",
    "        select_all_tasks(conn,query)\n",
    " \n",
    " \n",
    "if __name__ == '__main__':\n",
    "    main()"
   ]
  },
  {
   "cell_type": "markdown",
   "metadata": {},
   "source": [
    "Connection is on so let's begin the game!\n",
    "Q1:Some of the facilities charge a fee to members, but some do not.\n",
    "Please list the names of the facilities that do. "
   ]
  },
  {
   "cell_type": "code",
   "execution_count": 56,
   "metadata": {},
   "outputs": [
    {
     "name": "stdout",
     "output_type": "stream",
     "text": [
      "(0, 'Tennis Court 1', 5, 25, 10000, 200)\n",
      "(1, 'Tennis Court 2', 5, 25, 8000, 200)\n",
      "(4, 'Massage Room 1', 9.9, 80, 4000, 3000)\n",
      "(5, 'Massage Room 2', 9.9, 80, 4000, 3000)\n",
      "(6, 'Squash Court', 3.5, 17.5, 5000, 80)\n"
     ]
    }
   ],
   "source": [
    "query1 = 'SELECT * FROM FACILITIES WHERE membercost >0'\n",
    "select_all_tasks(conn,query1)\n",
    " "
   ]
  },
  {
   "cell_type": "markdown",
   "metadata": {},
   "source": [
    "Q2: How many facilities do not charge a fee to members?"
   ]
  },
  {
   "cell_type": "code",
   "execution_count": 57,
   "metadata": {},
   "outputs": [
    {
     "name": "stdout",
     "output_type": "stream",
     "text": [
      "(4,)\n"
     ]
    }
   ],
   "source": [
    "query2 = 'SELECT COUNT( * ) AS count FROM FACILITIES WHERE membercost =0'\n",
    "select_all_tasks(conn,query2)"
   ]
  },
  {
   "cell_type": "markdown",
   "metadata": {},
   "source": [
    "Q3: How can you produce a list of facilities that charge a fee to members,\n",
    "where the fee is less than 20% of the facility's monthly maintenance cost?\n",
    "Return the facid, facility name, member cost, and monthly maintenance of the\n",
    "facilities in question."
   ]
  },
  {
   "cell_type": "code",
   "execution_count": 59,
   "metadata": {},
   "outputs": [
    {
     "name": "stdout",
     "output_type": "stream",
     "text": [
      "(0, 'Tennis Court 1', 5, 200)\n",
      "(1, 'Tennis Court 2', 5, 200)\n",
      "(4, 'Massage Room 1', 9.9, 3000)\n",
      "(5, 'Massage Room 2', 9.9, 3000)\n",
      "(6, 'Squash Court', 3.5, 80)\n"
     ]
    }
   ],
   "source": [
    "query3 = \"\"\"SELECT facid, name, membercost, monthlymaintenance\n",
    "FROM FACILITIES\n",
    "WHERE membercost >0\n",
    "AND membercost < monthlymaintenance * 0.2\"\"\"\n",
    "select_all_tasks(conn,query3)"
   ]
  },
  {
   "cell_type": "markdown",
   "metadata": {},
   "source": [
    "Q4: How can you retrieve the details of facilities with ID 1 and 5?\n",
    "Write the query without using the OR operator."
   ]
  },
  {
   "cell_type": "code",
   "execution_count": 60,
   "metadata": {},
   "outputs": [
    {
     "name": "stdout",
     "output_type": "stream",
     "text": [
      "(1, 'Tennis Court 2', 5, 25, 8000, 200)\n",
      "(5, 'Massage Room 2', 9.9, 80, 4000, 3000)\n"
     ]
    }
   ],
   "source": [
    "query4 = \"\"\"SELECT *\n",
    "FROM FACILITIES\n",
    "WHERE facid\n",
    "IN ( 1, 5 )\n",
    "\"\"\"\n",
    "select_all_tasks(conn,query4)"
   ]
  },
  {
   "cell_type": "markdown",
   "metadata": {},
   "source": [
    "Q5: How can you produce a list of facilities, with each labelled as\n",
    "'cheap' or 'expensive', depending on if their monthly maintenance cost is\n",
    "more than $100? Return the name and monthly maintenance of the facilities\n",
    "in question. "
   ]
  },
  {
   "cell_type": "code",
   "execution_count": 61,
   "metadata": {},
   "outputs": [
    {
     "name": "stdout",
     "output_type": "stream",
     "text": [
      "('Tennis Court 1', 200, 'expensive')\n",
      "('Tennis Court 2', 200, 'expensive')\n",
      "('Badminton Court', 50, 'cheap')\n",
      "('Table Tennis', 10, 'cheap')\n",
      "('Massage Room 1', 3000, 'expensive')\n",
      "('Massage Room 2', 3000, 'expensive')\n",
      "('Squash Court', 80, 'cheap')\n",
      "('Snooker Table', 15, 'cheap')\n",
      "('Pool Table', 15, 'cheap')\n"
     ]
    }
   ],
   "source": [
    "query5 = \"\"\"SELECT name, monthlymaintenance,\n",
    "CASE WHEN monthlymaintenance >100\n",
    "THEN 'expensive'\n",
    "ELSE 'cheap'\n",
    "END AS cheap_or_expen\n",
    "FROM FACILITIES\"\"\"\n",
    "select_all_tasks(conn,query5)"
   ]
  },
  {
   "cell_type": "raw",
   "metadata": {},
   "source": [
    "Q6: You'd like to get the first and last name of the last member(s)\n",
    "who signed up. Do not use the LIMIT clause for your solution."
   ]
  },
  {
   "cell_type": "code",
   "execution_count": 66,
   "metadata": {},
   "outputs": [
    {
     "name": "stdout",
     "output_type": "stream",
     "text": [
      "('Darren', 'Smith')\n"
     ]
    }
   ],
   "source": [
    "query6 = \"\"\"SELECT firstname, surname\n",
    "FROM MEMBERS\n",
    "WHERE joindate = (SELECT MAX( joindate )\n",
    "FROM MEMBERS) \"\"\"\n",
    "select_all_tasks(conn,query6)"
   ]
  },
  {
   "cell_type": "markdown",
   "metadata": {},
   "source": [
    "Q7: How can you produce a list of all members who have used a tennis court?\n",
    "Include in your output the name of the court, and the name of the member\n",
    "formatted as a single column. Ensure no duplicate data, and order by\n",
    "the member name."
   ]
  },
  {
   "cell_type": "code",
   "execution_count": 68,
   "metadata": {},
   "outputs": [
    {
     "name": "stdout",
     "output_type": "stream",
     "text": [
      "('Tennis Court 1', 'Tracy Smith')\n",
      "('Tennis Court 1', 'GUEST GUEST')\n",
      "('Tennis Court 1', 'Tim Rownam')\n",
      "('Tennis Court 1', 'Janice Joplette')\n",
      "('Tennis Court 1', 'Gerald Butters')\n",
      "('Tennis Court 1', 'Burton Tracy')\n",
      "('Tennis Court 1', 'Nancy Dare')\n",
      "('Tennis Court 1', 'Tim Boothe')\n",
      "('Tennis Court 1', 'Charles Owen')\n",
      "('Tennis Court 1', 'Anne Baker')\n",
      "('Tennis Court 1', 'Jack Smith')\n",
      "('Tennis Court 1', 'David Jones')\n",
      "('Tennis Court 1', 'Timothy Baker')\n",
      "('Tennis Court 1', 'David Pinker')\n",
      "('Tennis Court 1', 'Ponder Stibbons')\n",
      "('Tennis Court 1', 'Joan Coplin')\n",
      "('Tennis Court 1', 'Douglas Jones')\n",
      "('Tennis Court 1', 'Ramnaresh Sarwin')\n",
      "('Tennis Court 1', 'Jemima Farrell')\n",
      "('Tennis Court 1', 'David Farrell')\n",
      "('Tennis Court 1', 'Florence Bader')\n",
      "('Tennis Court 1', 'John Hunt')\n",
      "('Tennis Court 1', 'Matthew Genting')\n",
      "('Tennis Court 1', 'Erica Crumpet')\n",
      "('Tennis Court 2', 'GUEST GUEST')\n",
      "('Tennis Court 2', 'Tim Rownam')\n",
      "('Tennis Court 2', 'Darren Smith')\n",
      "('Tennis Court 2', 'Janice Joplette')\n",
      "('Tennis Court 2', 'Tracy Smith')\n",
      "('Tennis Court 2', 'Gerald Butters')\n",
      "('Tennis Court 2', 'Tim Boothe')\n",
      "('Tennis Court 2', 'Burton Tracy')\n",
      "('Tennis Court 2', 'Nancy Dare')\n",
      "('Tennis Court 2', 'Ponder Stibbons')\n",
      "('Tennis Court 2', 'Charles Owen')\n",
      "('Tennis Court 2', 'David Jones')\n",
      "('Tennis Court 2', 'Anne Baker')\n",
      "('Tennis Court 2', 'Timothy Baker')\n",
      "('Tennis Court 2', 'Florence Bader')\n",
      "('Tennis Court 2', 'Jemima Farrell')\n",
      "('Tennis Court 2', 'Ramnaresh Sarwin')\n",
      "('Tennis Court 2', 'Jack Smith')\n",
      "('Tennis Court 2', 'Millicent Purview')\n",
      "('Tennis Court 2', 'Henrietta Rumney')\n",
      "('Tennis Court 2', 'John Hunt')\n",
      "('Tennis Court 2', 'David Farrell')\n"
     ]
    }
   ],
   "source": [
    "query7 = \"\"\"SELECT DISTINCT FACILITIES.name AS 'facility', MEMBERS.firstname || ' ' || MEMBERS.surname \n",
    "AS 'member_name'\n",
    "FROM FACILITIES\n",
    "JOIN BOOKINGS ON FACILITIES.facid = BOOKINGS.facid\n",
    "AND FACILITIES.name LIKE '%Tennis Court%'\n",
    "JOIN MEMBERS ON BOOKINGS.memid = MEMBERS.memid\n",
    "ORDER BY 1\"\"\"\n",
    "select_all_tasks(conn,query7)"
   ]
  },
  {
   "cell_type": "markdown",
   "metadata": {},
   "source": [
    "Q8: How can you produce a list of bookings on the day of 2012-09-14 which\n",
    "will cost the member (or guest) more than $30? Remember that guests have\n",
    "different costs to members (the listed costs are per half-hour 'slot'), and\n",
    "the guest user's ID is always 0. Include in your output the name of the\n",
    "facility, the name of the member formatted as a single column, and the cost.\n",
    "Order by descending cost, and do not use any subqueries."
   ]
  },
  {
   "cell_type": "code",
   "execution_count": 71,
   "metadata": {},
   "outputs": [
    {
     "name": "stdout",
     "output_type": "stream",
     "text": [
      "('Massage Room 1', 'guest', 160)\n",
      "('Massage Room 1', 'guest', 160)\n",
      "('Massage Room 1', 'guest', 160)\n",
      "('Massage Room 1', 'guest', 160)\n",
      "('Massage Room 1', 'guest', 160)\n",
      "('Massage Room 2', 'guest', 160)\n",
      "('Massage Room 2', 'guest', 160)\n",
      "('Tennis Court 1', 'guest', 75)\n",
      "('Tennis Court 1', 'guest', 75)\n",
      "('Tennis Court 1', 'guest', 75)\n",
      "('Tennis Court 2', 'guest', 75)\n",
      "('Tennis Court 2', 'guest', 75)\n",
      "('Tennis Court 2', 'guest', 75)\n",
      "('Squash Court', 'guest', 70.0)\n",
      "('Badminton Court', 'guest', 46.5)\n",
      "('Badminton Court', 'guest', 46.5)\n",
      "('Squash Court', 'guest', 35.0)\n",
      "('Squash Court', 'guest', 35.0)\n"
     ]
    }
   ],
   "source": [
    "query8 = \"\"\"SELECT FACILITIES.name,\n",
    "       CASE WHEN BOOKINGS.memid>0 THEN MEMBERS.firstname|| ' '|| MEMBERS.surname ELSE 'guest' END AS 'member_name',\n",
    "       CASE WHEN BOOKINGS.memid>0 THEN BOOKINGS.slots*FACILITIES.membercost ELSE BOOKINGS.slots*FACILITIES.guestcost END AS cost\n",
    "FROM BOOKINGS\n",
    "JOIN FACILITIES ON FACILITIES.facid = BOOKINGS.facid\n",
    "AND BOOKINGS.starttime > '2012-09-04 00:00:00' AND BOOKINGS.starttime < '2012-09-05 00:00:00'\n",
    "LEFT JOIN MEMBERS ON BOOKINGS.memid = MEMBERS.memid\n",
    "WHERE (CASE WHEN BOOKINGS.memid>0 THEN BOOKINGS.slots*Facilities.membercost ELSE BOOKINGS.slots*FACILITIES.guestcost END)>30\n",
    "ORDER BY cost DESC\"\"\"\n",
    "select_all_tasks(conn,query8)"
   ]
  },
  {
   "cell_type": "markdown",
   "metadata": {},
   "source": [
    "Q9: This time, produce the same result as in Q8, but using a subquery."
   ]
  },
  {
   "cell_type": "code",
   "execution_count": 74,
   "metadata": {},
   "outputs": [
    {
     "name": "stdout",
     "output_type": "stream",
     "text": [
      "('Massage Room 1', 'guest', 320)\n",
      "('Massage Room 2', 'guest', 320)\n",
      "('Massage Room 1', 'guest', 240)\n",
      "('Massage Room 2', 'guest', 240)\n",
      "('Massage Room 1', 'guest', 240)\n",
      "('Massage Room 2', 'guest', 240)\n",
      "('Massage Room 1', 'guest', 240)\n",
      "('Massage Room 2', 'guest', 240)\n",
      "('Massage Room 1', 'guest', 240)\n",
      "('Massage Room 2', 'guest', 240)\n",
      "('Massage Room 1', 'guest', 240)\n",
      "('Massage Room 2', 'guest', 240)\n",
      "('Massage Room 1', 'guest', 160)\n",
      "('Massage Room 2', 'guest', 160)\n",
      "('Massage Room 1', 'guest', 160)\n",
      "('Massage Room 2', 'guest', 160)\n",
      "('Massage Room 1', 'guest', 160)\n",
      "('Massage Room 2', 'guest', 160)\n",
      "('Massage Room 1', 'guest', 160)\n",
      "('Massage Room 2', 'guest', 160)\n",
      "('Massage Room 1', 'guest', 160)\n",
      "('Massage Room 2', 'guest', 160)\n",
      "('Massage Room 1', 'guest', 160)\n",
      "('Massage Room 2', 'guest', 160)\n",
      "('Massage Room 1', 'guest', 160)\n",
      "('Massage Room 2', 'guest', 160)\n",
      "('Massage Room 1', 'guest', 160)\n",
      "('Massage Room 2', 'guest', 160)\n",
      "('Massage Room 1', 'guest', 160)\n",
      "('Massage Room 2', 'guest', 160)\n",
      "('Massage Room 1', 'guest', 160)\n",
      "('Massage Room 2', 'guest', 160)\n",
      "('Tennis Court 1', 'guest', 100)\n",
      "('Tennis Court 2', 'guest', 100)\n",
      "('Massage Room 1', 'guest', 80)\n",
      "('Massage Room 2', 'guest', 80)\n",
      "('Tennis Court 1', 'guest', 75)\n",
      "('Tennis Court 2', 'guest', 75)\n",
      "('Tennis Court 1', 'guest', 75)\n",
      "('Tennis Court 2', 'guest', 75)\n",
      "('Tennis Court 1', 'guest', 75)\n",
      "('Tennis Court 2', 'guest', 75)\n",
      "('Tennis Court 1', 'guest', 75)\n",
      "('Tennis Court 2', 'guest', 75)\n",
      "('Tennis Court 1', 'guest', 75)\n",
      "('Tennis Court 2', 'guest', 75)\n",
      "('Squash Court', 'guest', 70.0)\n",
      "('Badminton Court', 'guest', 62.0)\n",
      "('Squash Court', 'guest', 52.5)\n",
      "('Squash Court', 'guest', 52.5)\n",
      "('Squash Court', 'guest', 52.5)\n",
      "('Squash Court', 'guest', 52.5)\n",
      "('Squash Court', 'guest', 52.5)\n",
      "('Tennis Court 1', 'guest', 50)\n",
      "('Tennis Court 2', 'guest', 50)\n",
      "('Tennis Court 1', 'guest', 50)\n",
      "('Tennis Court 2', 'guest', 50)\n",
      "('Tennis Court 1', 'guest', 50)\n",
      "('Tennis Court 2', 'guest', 50)\n",
      "('Tennis Court 1', 'guest', 50)\n",
      "('Tennis Court 2', 'guest', 50)\n",
      "('Tennis Court 1', 'guest', 50)\n",
      "('Tennis Court 2', 'guest', 50)\n",
      "('Tennis Court 1', 'guest', 50)\n",
      "('Tennis Court 2', 'guest', 50)\n",
      "('Tennis Court 1', 'guest', 50)\n",
      "('Tennis Court 2', 'guest', 50)\n",
      "('Tennis Court 1', 'guest', 50)\n",
      "('Tennis Court 2', 'guest', 50)\n",
      "('Tennis Court 1', 'guest', 50)\n",
      "('Tennis Court 2', 'guest', 50)\n",
      "('Tennis Court 1', 'guest', 50)\n",
      "('Tennis Court 2', 'guest', 50)\n",
      "('Badminton Court', 'guest', 46.5)\n",
      "('Badminton Court', 'guest', 46.5)\n",
      "('Badminton Court', 'guest', 46.5)\n",
      "('Badminton Court', 'guest', 46.5)\n",
      "('Badminton Court', 'guest', 46.5)\n",
      "('Squash Court', 'guest', 35.0)\n",
      "('Squash Court', 'guest', 35.0)\n",
      "('Squash Court', 'guest', 35.0)\n",
      "('Squash Court', 'guest', 35.0)\n",
      "('Squash Court', 'guest', 35.0)\n",
      "('Squash Court', 'guest', 35.0)\n",
      "('Squash Court', 'guest', 35.0)\n",
      "('Squash Court', 'guest', 35.0)\n",
      "('Squash Court', 'guest', 35.0)\n",
      "('Squash Court', 'guest', 35.0)\n",
      "('Badminton Court', 'guest', 31.0)\n",
      "('Badminton Court', 'guest', 31.0)\n",
      "('Badminton Court', 'guest', 31.0)\n",
      "('Badminton Court', 'guest', 31.0)\n",
      "('Badminton Court', 'guest', 31.0)\n",
      "('Badminton Court', 'guest', 31.0)\n",
      "('Badminton Court', 'guest', 31.0)\n",
      "('Badminton Court', 'guest', 31.0)\n",
      "('Badminton Court', 'guest', 31.0)\n",
      "('Badminton Court', 'guest', 31.0)\n"
     ]
    }
   ],
   "source": [
    "query9 = \"\"\"SELECT x.name,\n",
    "       CASE WHEN x.id>0 THEN MEMBERS.firstname || ' ' || MEMBERS.surname ELSE 'guest' END AS 'member_name',\n",
    "       x.cost\n",
    "       \n",
    "FROM (\n",
    "    SELECT FACILITIES.name AS name,\n",
    "           CASE WHEN BOOKINGS.memid>0 THEN BOOKINGS.slots*FACILITIES.membercost ELSE    BOOKINGS.slots*FACILITIES.guestcost END AS cost,\n",
    "           BOOKINGS.memid AS id\n",
    "    FROM BOOKINGS\n",
    "    \n",
    "    JOIN FACILITIES ON BOOKINGS.facid AND BOOKINGS.starttime > '2012-09-04 00:00:00' AND BOOKINGS.starttime < '2012-09-05 00:00:00'\n",
    "      ) AS x\n",
    "\n",
    "LEFT JOIN MEMBERS ON x.id = MEMBERS.memid\n",
    "WHERE x.cost>30\n",
    "ORDER BY x.cost DESC\"\"\"\n",
    "select_all_tasks(conn,query9)"
   ]
  },
  {
   "cell_type": "markdown",
   "metadata": {},
   "source": [
    "Q10: Produce a list of facilities with a total revenue less than 1000.\n",
    "The output of facility name and total revenue, sorted by revenue. Remember\n",
    "that there's a different cost for guests and members!"
   ]
  },
  {
   "cell_type": "code",
   "execution_count": 75,
   "metadata": {},
   "outputs": [
    {
     "name": "stdout",
     "output_type": "stream",
     "text": [
      "('Table Tennis', 180)\n",
      "('Snooker Table', 240)\n",
      "('Pool Table', 270)\n",
      "('Badminton Court', 1906.5)\n",
      "('Squash Court', 13468.0)\n",
      "('Tennis Court 1', 13860)\n",
      "('Tennis Court 2', 14310)\n",
      "('Massage Room 2', 14454.599999999995)\n",
      "('Massage Room 1', 50351.600000000275)\n"
     ]
    }
   ],
   "source": [
    "query10 = \"\"\"SELECT FACILITIES.name,\n",
    "       SUM(CASE WHEN BOOKINGS.memid>0 THEN BOOKINGS.slots*FACILITIES.membercost ELSE    BOOKINGS.slots*FACILITIES.guestcost END) AS total_revenue\n",
    "FROM BOOKINGS\n",
    "LEFT JOIN FACILITIES ON Facilities.facid = BOOKINGS.facid\n",
    "GROUP BY FACILITIES.name\n",
    "ORDER BY SUM(CASE WHEN BOOKINGS.memid>0 THEN BOOKINGS.slots*Facilities.membercost ELSE    BOOKINGS.slots*FACILITIES.guestcost END)\"\"\"\n",
    "select_all_tasks(conn,query10)"
   ]
  }
 ],
 "metadata": {
  "kernelspec": {
   "display_name": "Python 3",
   "language": "python",
   "name": "python3"
  },
  "language_info": {
   "codemirror_mode": {
    "name": "ipython",
    "version": 3
   },
   "file_extension": ".py",
   "mimetype": "text/x-python",
   "name": "python",
   "nbconvert_exporter": "python",
   "pygments_lexer": "ipython3",
   "version": "3.7.4"
  }
 },
 "nbformat": 4,
 "nbformat_minor": 2
}
